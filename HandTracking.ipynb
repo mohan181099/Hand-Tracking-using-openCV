{
 "cells": [
  {
   "cell_type": "code",
   "execution_count": 1,
   "id": "476d703a",
   "metadata": {},
   "outputs": [
    {
     "name": "stdout",
     "output_type": "stream",
     "text": [
      "Requirement already satisfied: mediapipe in c:\\users\\mohan\\anaconda3\\lib\\site-packages (0.9.0)\n",
      "Requirement already satisfied: opencv-python in c:\\users\\mohan\\anaconda3\\lib\\site-packages (4.6.0.66)\n",
      "Requirement already satisfied: opencv-contrib-python in c:\\users\\mohan\\anaconda3\\lib\\site-packages (from mediapipe) (4.6.0.66)\n",
      "Requirement already satisfied: matplotlib in c:\\users\\mohan\\anaconda3\\lib\\site-packages (from mediapipe) (3.5.2)\n",
      "Requirement already satisfied: protobuf<4,>=3.11 in c:\\users\\mohan\\anaconda3\\lib\\site-packages (from mediapipe) (3.20.3)\n",
      "Requirement already satisfied: attrs>=19.1.0 in c:\\users\\mohan\\anaconda3\\lib\\site-packages (from mediapipe) (21.4.0)\n",
      "Requirement already satisfied: numpy in c:\\users\\mohan\\anaconda3\\lib\\site-packages (from mediapipe) (1.21.5)\n",
      "Requirement already satisfied: flatbuffers>=2.0 in c:\\users\\mohan\\anaconda3\\lib\\site-packages (from mediapipe) (22.10.26)\n",
      "Requirement already satisfied: absl-py in c:\\users\\mohan\\anaconda3\\lib\\site-packages (from mediapipe) (1.3.0)\n",
      "Requirement already satisfied: pillow>=6.2.0 in c:\\users\\mohan\\anaconda3\\lib\\site-packages (from matplotlib->mediapipe) (9.2.0)\n",
      "Requirement already satisfied: packaging>=20.0 in c:\\users\\mohan\\anaconda3\\lib\\site-packages (from matplotlib->mediapipe) (21.3)\n",
      "Requirement already satisfied: kiwisolver>=1.0.1 in c:\\users\\mohan\\anaconda3\\lib\\site-packages (from matplotlib->mediapipe) (1.4.2)\n",
      "Requirement already satisfied: fonttools>=4.22.0 in c:\\users\\mohan\\anaconda3\\lib\\site-packages (from matplotlib->mediapipe) (4.25.0)\n",
      "Requirement already satisfied: python-dateutil>=2.7 in c:\\users\\mohan\\anaconda3\\lib\\site-packages (from matplotlib->mediapipe) (2.8.2)\n",
      "Requirement already satisfied: pyparsing>=2.2.1 in c:\\users\\mohan\\anaconda3\\lib\\site-packages (from matplotlib->mediapipe) (3.0.9)\n",
      "Requirement already satisfied: cycler>=0.10 in c:\\users\\mohan\\anaconda3\\lib\\site-packages (from matplotlib->mediapipe) (0.11.0)\n",
      "Requirement already satisfied: six>=1.5 in c:\\users\\mohan\\anaconda3\\lib\\site-packages (from python-dateutil>=2.7->matplotlib->mediapipe) (1.16.0)\n"
     ]
    }
   ],
   "source": [
    "!pip install mediapipe opencv-python # First we need to install mediapipe library"
   ]
  },
  {
   "cell_type": "code",
   "execution_count": 1,
   "id": "791b74c1",
   "metadata": {},
   "outputs": [],
   "source": [
    "# importing the required libraries\n",
    "import cv2\n",
    "import mediapipe as mp"
   ]
  },
  {
   "cell_type": "code",
   "execution_count": 2,
   "id": "88f9b35f",
   "metadata": {},
   "outputs": [],
   "source": [
    "# Assigning variables to the mediapipe functions\n",
    "mp_draw = mp.solutions.drawing_utils\n",
    "mp_hand = mp.solutions.hands\n",
    "hands = mp_hand.Hands() #defaults to two hands you can use mphand.Hands(max_num_hands= 'any number') for the any number of hands required"
   ]
  },
  {
   "cell_type": "code",
   "execution_count": 3,
   "id": "4313edef",
   "metadata": {},
   "outputs": [],
   "source": [
    "cap = cv2.VideoCapture(0) #Takes input through webcam\n",
    "while True:\n",
    "    output,image = cap.read()\n",
    "    image = cv2.flip(image, 1)  \n",
    "    img = cv2.cvtColor(image,cv2.COLOR_BGR2RGB)\n",
    "    result = hands.process(image)\n",
    "    image = cv2.cvtColor(img,cv2.COLOR_RGB2BGR)\n",
    "    if result.multi_hand_landmarks:\n",
    "        for mark in result.multi_hand_landmarks:\n",
    "            mp_draw.draw_landmarks(image,mark,mp_hand.HAND_CONNECTIONS)\n",
    "    cv2.imshow(\"Hand Tracking using Media pipe\",image)\n",
    "    if cv2.waitKey(1) & 0xFF == ord('q'): # press 'q' to exit the output window\n",
    "        break\n",
    "cap.release()\n",
    "cv2.destroyAllWindows()"
   ]
  },
  {
   "cell_type": "code",
   "execution_count": null,
   "id": "7ae0d978",
   "metadata": {},
   "outputs": [],
   "source": []
  }
 ],
 "metadata": {
  "kernelspec": {
   "display_name": "Python 3 (ipykernel)",
   "language": "python",
   "name": "python3"
  },
  "language_info": {
   "codemirror_mode": {
    "name": "ipython",
    "version": 3
   },
   "file_extension": ".py",
   "mimetype": "text/x-python",
   "name": "python",
   "nbconvert_exporter": "python",
   "pygments_lexer": "ipython3",
   "version": "3.9.13"
  }
 },
 "nbformat": 4,
 "nbformat_minor": 5
}
